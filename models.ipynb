{
 "cells": [
  {
   "cell_type": "code",
   "execution_count": 28,
   "id": "261dde76",
   "metadata": {},
   "outputs": [],
   "source": [
    "from sqlalchemy import (\n",
    "    Column, Integer, String, Text, ForeignKey, DateTime, Boolean, Enum, Index, Table\n",
    ")\n",
    "from sqlalchemy.orm import relationship, declarative_base, Session\n",
    "from sqlalchemy import create_engine\n",
    "\n",
    "from sqlalchemy.orm import sessionmaker\n",
    "from sqlalchemy.sql import func\n",
    "from datetime import datetime\n",
    "from sqlalchemy.dialects.postgresql import JSONB\n",
    "from dotenv import load_dotenv\n",
    "import os\n",
    "import enum"
   ]
  },
  {
   "cell_type": "code",
   "execution_count": null,
   "id": "9d21122a",
   "metadata": {},
   "outputs": [
    {
     "name": "stdout",
     "output_type": "stream",
     "text": [
      "2025-09-15 10:50:55,725 INFO sqlalchemy.engine.Engine select pg_catalog.version()\n",
      "2025-09-15 10:50:55,726 INFO sqlalchemy.engine.Engine [raw sql] {}\n",
      "2025-09-15 10:50:55,727 INFO sqlalchemy.engine.Engine select current_schema()\n",
      "2025-09-15 10:50:55,727 INFO sqlalchemy.engine.Engine [raw sql] {}\n",
      "2025-09-15 10:50:55,728 INFO sqlalchemy.engine.Engine show standard_conforming_strings\n",
      "2025-09-15 10:50:55,728 INFO sqlalchemy.engine.Engine [raw sql] {}\n",
      "2025-09-15 10:50:55,729 INFO sqlalchemy.engine.Engine BEGIN (implicit)\n",
      "2025-09-15 10:50:55,729 INFO sqlalchemy.engine.Engine SELECT version();\n",
      "2025-09-15 10:50:55,729 INFO sqlalchemy.engine.Engine [generated in 0.00041s] {}\n",
      "✅ Connected to: PostgreSQL 14.18 (Homebrew) on aarch64-apple-darwin23.6.0, compiled by Apple clang version 16.0.0 (clang-1600.0.26.6), 64-bit\n",
      "2025-09-15 10:50:55,729 INFO sqlalchemy.engine.Engine ROLLBACK\n"
     ]
    }
   ],
   "source": [
    "# from sqlalchemy import create_engine, text\n",
    "\n",
    "# DATABASE_URL = \" \"\n",
    "# engine = create_engine(DATABASE_URL, echo=True)\n",
    "\n",
    "# with engine.connect() as conn:\n",
    "#     result = conn.execute(text(\"SELECT version();\"))\n",
    "#     print(\"✅ Connected to:\", result.scalar())"
   ]
  },
  {
   "cell_type": "markdown",
   "id": "e7e0172b",
   "metadata": {},
   "source": [
    "### CAUTION: SQLAlchemy’s in-memory registry.\n",
    "When you re-run your model definitions (class Project(Base) etc.), SQLAlchemy thinks you’re trying to define the same table again in the same Python session.\n",
    "\n",
    "Fixes:\n",
    "\n",
    "* Restart the kernel (clean slate).\n",
    "\n",
    "* Or run Base.metadata.clear() before re-defining models.\n",
    "\n",
    "* Or (not recommended for production, but useful in notebooks) add:    \n",
    "\n",
    "`__table_args__ = {\"extend_existing\": True}`    \n",
    "\n",
    "inside each model.    \n",
    "\n",
    "**Potential problems of 3rd option-- Silent overwrites**    \n",
    "\n",
    "If you redefine a model with different column definitions, SQLAlchemy will happily overwrite the in-memory Python mapping.    \n",
    "\n",
    "But the database table itself is unchanged — unless you drop/recreate or run a migration.    \n",
    "\n",
    "This can cause a mismatch: your Python code thinks a column exists (or has a new type), but the real Postgres table does not.    \n",
    "\n",
    "### My own suggestion:    \n",
    "#### During prototyping stage:         \n",
    "* use `__table_args__ = {\"extend_existing\": True}` for each model;\n",
    "    \n",
    "#### When your schema stabilizes and you’re preparing for AWS deployment:    \n",
    "1. Move your models into models.py (or a models/ package).\n",
    "\n",
    "        Delete __table_args__ = {\"extend_existing\": True} from each model.\n",
    "        Define Base = declarative_base() once at the top.\n",
    "\n",
    "2. Add Alembic to manage schema evolution:\n",
    "\n",
    "    `pip install alembic`    \n",
    "\n",
    "    `alembic init migrations`    \n",
    "\n",
    "* Configure alembic.ini with your DATABASE_URL.   \n",
    "\n",
    "* In env.py, set target_metadata = Base.metadata.\n",
    "\n",
    "3. Whenever you change a model:\n",
    "\n",
    "    `alembic revision --autogenerate -m \"describe change\"`\n",
    "   \n",
    "    `alembic upgrade head`\n",
    "\n",
    "This will safely apply only the changes needed, without dropping your tables."
   ]
  },
  {
   "cell_type": "code",
   "execution_count": 2,
   "id": "df4151fe",
   "metadata": {},
   "outputs": [],
   "source": [
    "# load env variables\n",
    "load_dotenv()  # load from .env file\n",
    "DATABASE_URL = os.getenv(\"DATABASE_URL\")"
   ]
  },
  {
   "cell_type": "code",
   "execution_count": 3,
   "id": "bbc7161b",
   "metadata": {},
   "outputs": [],
   "source": [
    "# create base class\n",
    "Base = declarative_base() \n",
    "\n",
    "#---\n",
    "# It creates a registry (Base.metadata) that will hold all the tables you define.\n",
    "# Every time you define a model (class Project(Base): ...), that model’s table gets registered into Base.metadata.tables.\n",
    "#---"
   ]
  },
  {
   "cell_type": "code",
   "execution_count": null,
   "id": "d2ef16ee",
   "metadata": {},
   "outputs": [],
   "source": [
    "# Base.metadata.clear()"
   ]
  },
  {
   "cell_type": "markdown",
   "id": "e975f5e7",
   "metadata": {},
   "source": [
    "# CORE TABLES"
   ]
  },
  {
   "cell_type": "markdown",
   "id": "d8bf2470",
   "metadata": {},
   "source": [
    "## 1. Project Table"
   ]
  },
  {
   "cell_type": "code",
   "execution_count": 15,
   "id": "d2d979ce",
   "metadata": {},
   "outputs": [
    {
     "name": "stderr",
     "output_type": "stream",
     "text": [
      "/var/folders/c_/7thpxjgs3m38yh7ftdr5g7vm0000gn/T/ipykernel_10250/3439951231.py:15: SAWarning: This declarative base already contains a class with the same class name and module name as __main__.Project, and will be replaced in the string-lookup table.\n",
      "  class Project(Base):\n"
     ]
    }
   ],
   "source": [
    "# -----------------------------\n",
    "# Core Tables\n",
    "# -----------------------------\n",
    "\n",
    "# Status Enum\n",
    "class ProjectStatus(enum.Enum):\n",
    "    draft = \"draft\"                  # project created, requirements being defined\n",
    "    ready_for_annotation = \"ready_for_annotation\"  # files uploaded, jobs not started\n",
    "    in_progress = \"in_progress\"      # annotation jobs are running\n",
    "    completed = \"completed\"          # all jobs done\n",
    "    archived = \"archived\"            # project closed, read-only\n",
    "\n",
    "    \n",
    "# Project Table\n",
    "class Project(Base):\n",
    "    __tablename__ = \"project\"\n",
    "    __table_args__ = {\"extend_existing\": True}\n",
    "\n",
    "    project_id = Column(Integer, primary_key=True, autoincrement=True)\n",
    "    org_id = Column(Integer, ForeignKey(\"organization.org_id\"), nullable=False)\n",
    "    name = Column(String, nullable=False)\n",
    "\n",
    "    # plain text instructions\n",
    "    requirements_text = Column(Text, nullable=True)\n",
    "    # optional uploaded doc (PDF, Word, PPT, etc.)\n",
    "    requirements_file_id = Column(Integer, ForeignKey(\"file.file_id\"), nullable=True)\n",
    "\n",
    "    # project status enum\n",
    "    status = Column(Enum(ProjectStatus, name=\"project_status_enum\"), default=ProjectStatus.draft)\n",
    "\n",
    "    date_created = Column(DateTime, default=func.now(), nullable=False)\n",
    "    date_updated = Column(DateTime, default=func.now(), onupdate=func.now(), nullable=False)\n",
    "\n",
    "    files = relationship(\"File\", back_populates=\"project\")\n",
    "    organization = relationship(\"Organization\", back_populates=\"projects\")\n",
    "    requirement_files = relationship(\n",
    "    \"File\",\n",
    "    primaryjoin=\"and_(Project.project_id==File.project_id, File.file_type=='requirement')\",\n",
    "    viewonly=True) # only get files that are requirements\n"
   ]
  },
  {
   "cell_type": "markdown",
   "id": "6fb06e27",
   "metadata": {},
   "source": [
    "## 2. File Table \n",
    "(currently only create one for all kinds of files' storage)"
   ]
  },
  {
   "cell_type": "code",
   "execution_count": null,
   "id": "b859e98f",
   "metadata": {},
   "outputs": [
    {
     "name": "stderr",
     "output_type": "stream",
     "text": [
      "/var/folders/c_/7thpxjgs3m38yh7ftdr5g7vm0000gn/T/ipykernel_10250/1933423749.py:24: SAWarning: This declarative base already contains a class with the same class name and module name as __main__.File, and will be replaced in the string-lookup table.\n",
      "  class File(Base):\n"
     ]
    }
   ],
   "source": [
    "# --------------------------\n",
    "# File Status Enum (file lifecycle)\n",
    "# --------------------------\n",
    "class FileStatus(enum.Enum):\n",
    "    pending = \"pending\"\n",
    "    ready_for_annotation = \"ready_for_annotation\"\n",
    "    in_progress = \"in_progress\"\n",
    "    completed = \"completed\"\n",
    "    archived = \"archived\"\n",
    "\n",
    "# --------------------------\n",
    "# File FileType Enum\n",
    "# --------------------------\n",
    "class FileType(enum.Enum):\n",
    "    dataset = \"dataset\"\n",
    "    requirement = \"requirement\"\n",
    "    report = \"annotation_results\"\n",
    "# Does our PM also needs to upload sliced file results?\n",
    "\n",
    "\n",
    "# --------------------------\n",
    "# File Table\n",
    "# --------------------------\n",
    "class File(Base):\n",
    "    __tablename__ = \"file\"\n",
    "    __table_args__ = {\"extend_existing\": True}\n",
    "\n",
    "    file_id = Column(Integer, primary_key=True, autoincrement=True)\n",
    "\n",
    "    # belongs to a project\n",
    "    project_id = Column(Integer, ForeignKey(\"project.project_id\"), nullable=False)\n",
    "\n",
    "    # descriptive file name (user-facing)\n",
    "    name = Column(String, nullable=False)\n",
    "\n",
    "    # what kind of file this is (dataset, requirement, annotation_results)\n",
    "    file_type = Column(Enum(FileType, name=\"file_type_enum\"), nullable=False, default=FileType.dataset)\n",
    "\n",
    "    # workflow state\n",
    "    status = Column(\n",
    "        Enum(FileStatus, name=\"file_status_enum\"),\n",
    "        default=FileStatus.pending,\n",
    "        nullable=False\n",
    "    )\n",
    "\n",
    "    # active version pointer\n",
    "    active_version_id = Column(Integer, ForeignKey(\"file_version.version_id\"), nullable=True)\n",
    "\n",
    "    # audit timestamps\n",
    "    date_created = Column(DateTime, default=func.now(), nullable=False)\n",
    "    date_updated = Column(DateTime, default=func.now(), onupdate=func.now(), nullable=False)\n",
    "\n",
    "    # --------------------------\n",
    "    # Relationships\n",
    "    # --------------------------\n",
    "    project = relationship(\"Project\", back_populates=\"files\")\n",
    "    versions = relationship(\"FileVersion\", back_populates=\"file\", cascade=\"all, delete-orphan\")\n",
    "    annotation_jobs = relationship(\"AnnotationJob\", back_populates=\"file\")\n"
   ]
  },
  {
   "cell_type": "markdown",
   "id": "c8867f25",
   "metadata": {},
   "source": [
    "# 3. User Table\n",
    "\n",
    "\"user\" is a generic account table that represents any actor in the system:\n",
    "\n",
    "* Organization Admin (client company, oversees all projects).\n",
    "\n",
    "* Organization PM (client company, uploads datasets + requirements).\n",
    "\n",
    "* Our PM (your company, manages annotation jobs & assigns annotators).\n",
    "\n",
    "* Annotators (our company, upload results).\n",
    "\n",
    "* QC / Reviewers (our company, upload corrections).\n",
    "\n",
    "therefore, \"user\" here basically means everyone who logs in and interacts with the system."
   ]
  },
  {
   "cell_type": "code",
   "execution_count": 30,
   "id": "cbf50deb",
   "metadata": {},
   "outputs": [
    {
     "name": "stderr",
     "output_type": "stream",
     "text": [
      "/var/folders/c_/7thpxjgs3m38yh7ftdr5g7vm0000gn/T/ipykernel_10250/4095210977.py:8: SAWarning: This declarative base already contains a class with the same class name and module name as __main__.User, and will be replaced in the string-lookup table.\n",
      "  class User(Base):\n"
     ]
    }
   ],
   "source": [
    "class UserRole(enum.Enum):\n",
    "    org_admin = \"org_admin\"       # customer admin\n",
    "    org_pm = \"org_pm\"             # customer project manager\n",
    "    our_pm = \"our_pm\"             # our company PM that manages annotation jobs & assigns annotators\n",
    "    annotator = \"annotator\"       # our company annotator\n",
    "    qc = \"qc\"                     # our company QC for annotation results review\n",
    "\n",
    "class User(Base):\n",
    "    __tablename__ = \"user\"\n",
    "    __table_args__ = {\"extend_existing\": True}\n",
    "\n",
    "\n",
    "    user_id = Column(Integer, primary_key=True, autoincrement=True)\n",
    "    email = Column(String, unique=True, nullable=False)\n",
    "    role = Column(Enum(UserRole, name=\"user_role_enum\"), nullable=False)\n",
    "    org_id = Column(Integer, ForeignKey(\"organization.org_id\"), nullable=True)  \n",
    "    # org_id is only relevant for client users (admins, PMs)\n",
    "\n",
    "    # Keep only one real relationship: User & EventLog\n",
    "    events = relationship(\"EventLog\", back_populates=\"user\")\n",
    "    assignments = relationship(\"Assignment\", back_populates=\"user\", cascade=\"all, delete-orphan\")\n",
    "    roles = relationship(\"Role\", secondary=user_roles, back_populates=\"users\")\n",
    "\n"
   ]
  },
  {
   "cell_type": "markdown",
   "id": "95e7a0f5",
   "metadata": {},
   "source": [
    "# 4. File Version Table"
   ]
  },
  {
   "cell_type": "code",
   "execution_count": 18,
   "id": "6e93be4d",
   "metadata": {},
   "outputs": [
    {
     "name": "stderr",
     "output_type": "stream",
     "text": [
      "/var/folders/c_/7thpxjgs3m38yh7ftdr5g7vm0000gn/T/ipykernel_10250/632267509.py:2: SAWarning: This declarative base already contains a class with the same class name and module name as __main__.FileVersion, and will be replaced in the string-lookup table.\n",
      "  class FileVersion(Base):\n"
     ]
    }
   ],
   "source": [
    "# File Version Table\n",
    "class FileVersion(Base):\n",
    "    __tablename__ = \"file_version\"\n",
    "    __table_args__ = (\n",
    "        Index(\"idx_fileversion_file_id\", \"file_id\"),\n",
    "        {\"extend_existing\": True},\n",
    "    )\n",
    "\n",
    "    version_id = Column(Integer, primary_key=True, autoincrement=True)\n",
    "    file_id = Column(Integer, ForeignKey(\"file.file_id\", ondelete=\"CASCADE\"), nullable=False)\n",
    "    s3_key = Column(String, nullable=False)  # MinIO/S3 object key\n",
    "    uploaded_by = Column(Integer, ForeignKey(\"user.user_id\"), nullable=True)\n",
    "    uploaded_at = Column(DateTime(timezone=True), server_default=func.now(), nullable=False)\n",
    "    is_active = Column(Boolean, default=True)\n",
    "\n",
    "    # Relationships\n",
    "    file = relationship(\"File\", back_populates=\"versions\")\n"
   ]
  },
  {
   "cell_type": "markdown",
   "id": "df817c6c",
   "metadata": {},
   "source": [
    "# 5. Annotation Job Table"
   ]
  },
  {
   "cell_type": "code",
   "execution_count": 23,
   "id": "8e44d4da",
   "metadata": {},
   "outputs": [
    {
     "name": "stderr",
     "output_type": "stream",
     "text": [
      "/var/folders/c_/7thpxjgs3m38yh7ftdr5g7vm0000gn/T/ipykernel_10250/3519755457.py:15: SAWarning: This declarative base already contains a class with the same class name and module name as __main__.AnnotationJob, and will be replaced in the string-lookup table.\n",
      "  class AnnotationJob(Base):\n"
     ]
    }
   ],
   "source": [
    "# AnnotationJobStatus Table (job lifecycle)\n",
    "class AnnotationJobStatus(enum.Enum):\n",
    "    not_started = \"not_started\"\n",
    "    in_progress = \"in_progress\"\n",
    "    submitted = \"submitted\"\n",
    "    reviewed = \"reviewed\"\n",
    "\n",
    "# ReviewStatus\n",
    "class ReviewStatus(enum.Enum):\n",
    "    pending = \"pending\"\n",
    "    approved = \"approved\"\n",
    "    rejected = \"rejected\"\n",
    "\n",
    "# Annotation Job Table\n",
    "class AnnotationJob(Base):\n",
    "    __tablename__ = \"annotation_job\"\n",
    "    __table_args__ = {\"extend_existing\": True}\n",
    "\n",
    "    job_id = Column(Integer, primary_key=True, autoincrement=True)\n",
    "\n",
    "    # Relationships\n",
    "    file_id = Column(Integer, ForeignKey(\"file.file_id\", ondelete=\"CASCADE\"), nullable=False)\n",
    "    project_id = Column(Integer, ForeignKey(\"project.project_id\", ondelete=\"CASCADE\"), nullable=False)\n",
    "    assigned_to = Column(Integer, ForeignKey(\"user.user_id\"), nullable=True)  # annotator\n",
    "    reviewed_by = Column(Integer, ForeignKey(\"user.user_id\"), nullable=True)  # reviewer\n",
    "\n",
    "    # Workflow\n",
    "    status = Column(\n",
    "    Enum(AnnotationJobStatus, name=\"annotation_job_status_enum\"),\n",
    "    default=AnnotationJobStatus.not_started,\n",
    "    nullable=False\n",
    "    )\n",
    "    \n",
    "    # Review\n",
    "    review_status = Column(\n",
    "    Enum(ReviewStatus, name=\"review_status_enum\"),\n",
    "    default=ReviewStatus.pending,\n",
    "    nullable=False\n",
    "    )\n",
    "\n",
    "    # Audit\n",
    "    created_at = Column(DateTime, default=func.now(), nullable=False)\n",
    "    updated_at = Column(DateTime, default=func.now(), onupdate=func.now(), nullable=False)\n",
    "\n",
    "    # ORM relationships\n",
    "    file = relationship(\"File\", back_populates=\"annotation_jobs\")\n",
    "    project = relationship(\"Project\", back_populates=\"annotation_jobs\")\n",
    "    annotator = relationship(\"User\", foreign_keys=[assigned_to])\n",
    "    reviewer = relationship(\"User\", foreign_keys=[reviewed_by])\n",
    "    reviews = relationship(\"Review\", back_populates=\"job\", cascade=\"all, delete-orphan\")\n",
    "    assignments = relationship(\"Assignment\", back_populates=\"job\", cascade=\"all, delete-orphan\")"
   ]
  },
  {
   "cell_type": "markdown",
   "id": "df57f933",
   "metadata": {},
   "source": [
    "# 6. Event Log Table"
   ]
  },
  {
   "cell_type": "code",
   "execution_count": null,
   "id": "aad50772",
   "metadata": {},
   "outputs": [],
   "source": [
    "# EntityType Enum\n",
    "class EntityType(enum.Enum):\n",
    "    project = \"project\"\n",
    "    file = \"file\"\n",
    "    file_version = \"file_version\"\n",
    "    annotation_job = \"annotation_job\"\n",
    "\n",
    "# EventType Enum\n",
    "class EventType(enum.Enum):\n",
    "    uploaded = \"uploaded\"\n",
    "    reuploaded = \"reuploaded\"\n",
    "    annotation_started = \"annotation_started\"\n",
    "    annotation_completed = \"annotation_completed\"\n",
    "    reviewed = \"reviewed\"\n",
    "    deleted = \"deleted\"\n",
    "    status_changed = \"status_changed\"\n",
    "\n",
    "\n",
    "# Event Log Table\n",
    "class EventLog(Base):\n",
    "    __tablename__ = \"event_log\"\n",
    "    __table_args__ = {\"extend_existing\": True}\n",
    "\n",
    "    event_id = Column(Integer, primary_key=True, autoincrement=True)\n",
    "\n",
    "    entity_type = Column(Enum(EntityType, name=\"entity_type_enum\"), nullable=False)\n",
    "    entity_id = Column(Integer, nullable=False)      # e.g. file_id\n",
    "\n",
    "    event_type = Column(Enum(EventType, name=\"event_type_enum\"), nullable=False)\n",
    "\n",
    "    user_id = Column(Integer, ForeignKey(\"user.user_id\"), nullable=True)\n",
    "    event_time = Column(DateTime, default=func.now())\n",
    "\n",
    "    user = relationship(\"User\", back_populates=\"events\")\n",
    "\n",
    "    event_metadata = Column(JSONB, nullable=True)  # use JSONB for flexible key/value storage\n"
   ]
  },
  {
   "cell_type": "markdown",
   "id": "9841251f",
   "metadata": {},
   "source": [
    "# 7. Review Table"
   ]
  },
  {
   "cell_type": "code",
   "execution_count": null,
   "id": "115a8bd0",
   "metadata": {},
   "outputs": [],
   "source": [
    "# --------------------------\n",
    "# Review Status Enum\n",
    "# --------------------------\n",
    "class ReviewStatus(enum.Enum):\n",
    "    pending = \"pending\"       # review not done yet\n",
    "    approved = \"approved\"     # accepted\n",
    "    rejected = \"rejected\"     # needs correction\n",
    "\n",
    "\n",
    "# --------------------------\n",
    "# Review Table\n",
    "# --------------------------\n",
    "class Review(Base):\n",
    "    __tablename__ = \"review\"\n",
    "    __table_args__ = {\"extend_existing\": True}\n",
    "\n",
    "    review_id = Column(Integer, primary_key=True, autoincrement=True)\n",
    "\n",
    "    # Link to the job being reviewed\n",
    "    job_id = Column(Integer, ForeignKey(\"annotation_job.job_id\"), nullable=False)\n",
    "\n",
    "    # Reviewer (user with reviewer role)\n",
    "    reviewer_id = Column(Integer, ForeignKey(\"user.user_id\"), nullable=False)\n",
    "\n",
    "    # Review decision\n",
    "    status = Column(\n",
    "        Enum(ReviewStatus, name=\"review_status_enum\"),\n",
    "        default=ReviewStatus.pending,\n",
    "        nullable=False\n",
    "    )\n",
    "\n",
    "    # Optional comments from reviewer\n",
    "    feedback = Column(Text, nullable=True)\n",
    "\n",
    "    # Audit timestamps\n",
    "    created_at = Column(DateTime, default=func.now(), nullable=False)\n",
    "    updated_at = Column(DateTime, default=func.now(), onupdate=func.now(), nullable=False)\n",
    "\n",
    "    # --------------------------\n",
    "    # Relationships\n",
    "    # --------------------------\n",
    "    job = relationship(\"AnnotationJob\", back_populates=\"reviews\")\n",
    "    reviewer = relationship(\"User\")"
   ]
  },
  {
   "cell_type": "markdown",
   "id": "d8330cbc",
   "metadata": {},
   "source": [
    "# 8. Assignment Table"
   ]
  },
  {
   "cell_type": "code",
   "execution_count": 26,
   "id": "ad7d6145",
   "metadata": {},
   "outputs": [
    {
     "name": "stderr",
     "output_type": "stream",
     "text": [
      "/var/folders/c_/7thpxjgs3m38yh7ftdr5g7vm0000gn/T/ipykernel_10250/3004453772.py:12: SAWarning: This declarative base already contains a class with the same class name and module name as __main__.Assignment, and will be replaced in the string-lookup table.\n",
      "  class Assignment(Base):\n"
     ]
    }
   ],
   "source": [
    "# --------------------------\n",
    "# Role Enum\n",
    "# --------------------------\n",
    "class AssignmentRole(enum.Enum):\n",
    "    annotator = \"annotator\"\n",
    "    reviewer = \"reviewer\"\n",
    "    qc = \"qc\"   # quality control / audit\n",
    "\n",
    "# --------------------------\n",
    "# Assignment Table\n",
    "# --------------------------\n",
    "class Assignment(Base):\n",
    "    __tablename__ = \"assignment\"\n",
    "    __table_args__ = {\"extend_existing\": True}\n",
    "\n",
    "    assignment_id = Column(Integer, primary_key=True, autoincrement=True)\n",
    "\n",
    "    # Link to the annotation job\n",
    "    job_id = Column(Integer, ForeignKey(\"annotation_job.job_id\", ondelete=\"CASCADE\"), nullable=False)\n",
    "\n",
    "    # Who is assigned\n",
    "    user_id = Column(Integer, ForeignKey(\"user.user_id\", ondelete=\"CASCADE\"), nullable=False)\n",
    "\n",
    "    # Role in this job (annotator, reviewer, qc)\n",
    "    role = Column(Enum(AssignmentRole, name=\"assignment_role_enum\"), nullable=False)\n",
    "\n",
    "    # Status of this assignment (separate from job status)\n",
    "    status = Column(String, default=\"assigned\")  \n",
    "    # e.g. assigned, accepted, in_progress, completed\n",
    "\n",
    "    # Audit fields\n",
    "    assigned_at = Column(DateTime, default=func.now(), nullable=False)\n",
    "    updated_at = Column(DateTime, default=func.now(), onupdate=func.now(), nullable=False)\n",
    "\n",
    "    # Relationships\n",
    "    job = relationship(\"AnnotationJob\", back_populates=\"assignments\")\n",
    "    user = relationship(\"User\", back_populates=\"assignments\")\n",
    "    "
   ]
  },
  {
   "cell_type": "markdown",
   "id": "d74b99ff",
   "metadata": {},
   "source": [
    "# 9. Role&Permission Table"
   ]
  },
  {
   "cell_type": "code",
   "execution_count": 29,
   "id": "6d7891ce",
   "metadata": {},
   "outputs": [],
   "source": [
    "# --------------------------\n",
    "# Association Tables\n",
    "# --------------------------\n",
    "\n",
    "# User <-> Role\n",
    "user_roles = Table(\n",
    "    \"user_roles\",\n",
    "    Base.metadata,\n",
    "    Column(\"user_id\", Integer, ForeignKey(\"user.user_id\", ondelete=\"CASCADE\"), primary_key=True),\n",
    "    Column(\"role_id\", Integer, ForeignKey(\"role.role_id\", ondelete=\"CASCADE\"), primary_key=True)\n",
    ")\n",
    "\n",
    "# Role <-> Permission\n",
    "role_permissions = Table(\n",
    "    \"role_permissions\",\n",
    "    Base.metadata,\n",
    "    Column(\"role_id\", Integer, ForeignKey(\"role.role_id\", ondelete=\"CASCADE\"), primary_key=True),\n",
    "    Column(\"permission_id\", Integer, ForeignKey(\"permission.permission_id\", ondelete=\"CASCADE\"), primary_key=True)\n",
    ")\n",
    "\n",
    "# --------------------------\n",
    "# Role Table\n",
    "# --------------------------\n",
    "class Role(Base):\n",
    "    __tablename__ = \"role\"\n",
    "    __table_args__ = {\"extend_existing\": True}\n",
    "\n",
    "    role_id = Column(Integer, primary_key=True, autoincrement=True)\n",
    "    name = Column(String, unique=True, nullable=False)   # e.g. \"organization_admin\", \"pm\", \"annotator\", \"reviewer\"\n",
    "\n",
    "    # Relationships\n",
    "    users = relationship(\"User\", secondary=user_roles, back_populates=\"roles\")\n",
    "    permissions = relationship(\"Permission\", secondary=role_permissions, back_populates=\"roles\")\n",
    "\n",
    "# --------------------------\n",
    "# Permission Table\n",
    "# --------------------------\n",
    "class Permission(Base):\n",
    "    __tablename__ = \"permission\"\n",
    "    __table_args__ = {\"extend_existing\": True}\n",
    "\n",
    "    permission_id = Column(Integer, primary_key=True, autoincrement=True)\n",
    "    name = Column(String, unique=True, nullable=False)   # e.g. \"upload_file\", \"assign_job\", \"review_annotation\"\n",
    "\n",
    "    # Relationships\n",
    "    roles = relationship(\"Role\", secondary=role_permissions, back_populates=\"permissions\")\n"
   ]
  }
 ],
 "metadata": {
  "kernelspec": {
   "display_name": "Python (myenv)",
   "language": "python",
   "name": "myenv"
  },
  "language_info": {
   "codemirror_mode": {
    "name": "ipython",
    "version": 3
   },
   "file_extension": ".py",
   "mimetype": "text/x-python",
   "name": "python",
   "nbconvert_exporter": "python",
   "pygments_lexer": "ipython3",
   "version": "3.10.14"
  }
 },
 "nbformat": 4,
 "nbformat_minor": 5
}
